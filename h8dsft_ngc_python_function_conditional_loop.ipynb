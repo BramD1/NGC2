{
 "cells": [
  {
   "cell_type": "markdown",
   "metadata": {},
   "source": [
    "# Task 1\n",
    "**Create a function that count the number of word in a sentence.**\n",
    "> Instruction:\n",
    "1. Create function called `number_of_word`.\n",
    "2. This function takes 1 input, `sentence`.\n",
    "3. Inside this function, you can utilize `.split()` method to split the sentence into list of word(s).\n",
    "4. Also, `len()` function to count the element inside a list.\n",
    "5. Return the number of word from the sentence.\n",
    "> Example:\n",
    "- Input: number_of_word(sentence = ’Hello World!’)\n",
    "- Output: 2\n",
    "- Input: number_of_word(sentence = ’Once Upon a Time in a faraway land’)\n",
    "- Output: 8\n"
   ]
  },
  {
   "cell_type": "code",
   "execution_count": 9,
   "metadata": {},
   "outputs": [
    {
     "name": "stdout",
     "output_type": "stream",
     "text": [
      "2\n"
     ]
    }
   ],
   "source": [
    "def number_of_word(sentence):\n",
    "    sentence=sentence.split()\n",
    "    return len(sentence)\n",
    "print(number_of_word('Hello World!'))"
   ]
  },
  {
   "cell_type": "code",
   "execution_count": 10,
   "metadata": {},
   "outputs": [
    {
     "name": "stdout",
     "output_type": "stream",
     "text": [
      "8\n"
     ]
    }
   ],
   "source": [
    "print(number_of_word(sentence='Once Upon a Time in a faraway land'))"
   ]
  },
  {
   "cell_type": "markdown",
   "metadata": {},
   "source": [
    "# Task 2"
   ]
  },
  {
   "cell_type": "markdown",
   "metadata": {},
   "source": [
    "**Create a function that will get list of number(s) from a certain range that multiples of given number.**\n",
    "> Instruction:\n",
    "1. Create function called `find_multiples`.\n",
    "2. This function takes 3 input: `start_range`, `end_range`, and `multiple`.\n",
    "3. From every number within the given range, check if that number is the mutliples of `multiple`.\n",
    "4. Return list of the possible multiple number(s).\n",
    "> Example:\n",
    "- Input: find_multiple(start_range= 1, end_range= 20, multiple= 5)\n",
    "- Output: [5, 10, 15, 20]\n",
    "- Input: find_multiple(start_range= 1, end_range= 50, multiple= 10)\n",
    "- Output: [10, 20, 30, 40, 50]5\n"
   ]
  },
  {
   "cell_type": "code",
   "execution_count": 14,
   "metadata": {},
   "outputs": [
    {
     "name": "stdout",
     "output_type": "stream",
     "text": [
      "[5, 10, 15, 20]\n",
      "[5, 10, 15, 20, 10, 20, 30, 40, 50]\n"
     ]
    }
   ],
   "source": [
    "def find_multiples(start_range,end_range, multiple):\n",
    "    for x in range(start_range, end_range+1):\n",
    "        if x %multiple==0:\n",
    "            list.append(x)\n",
    "\n",
    "list=[]\n",
    "        \n",
    "find_multiples(start_range=1,end_range=20,multiple=5)\n",
    "print(list)\n",
    "\n",
    "find_multiples(start_range=1,end_range=50,multiple=10)\n",
    "print(list)"
   ]
  },
  {
   "cell_type": "markdown",
   "metadata": {},
   "source": [
    "# Task 3\n",
    "**Create a function that will convert student’s grade to GPA**\n",
    "> Instruction:\n",
    "1. Create function called `Grade_Converter`.\n",
    "2. This function takes input: `convert_to` and n-paired of student(s) name with its respective score.\n",
    "3. Input argument for `convert_to` is either `letter_grade` or `gpa`.\n",
    "4. You can utilize **kwargs input argument to generate n-length paired of student(s) name with its respective score (Dictionary).\n",
    "5. This function will return dictionary of student’s name along with converted Letter Grade or GPA, depending on user input in `convert_to` parameter."
   ]
  },
  {
   "cell_type": "code",
   "execution_count": 43,
   "metadata": {},
   "outputs": [
    {
     "name": "stdout",
     "output_type": "stream",
     "text": [
      "Adam-> 62\n",
      "2.5\n",
      "Faiz-> 92\n",
      "4\n",
      "Albert-> 90\n",
      "A\n",
      "Dwi-> 82\n",
      "B\n",
      "Syahdan-> 58\n",
      "D\n",
      "Veronica-> 84\n",
      "B\n"
     ]
    }
   ],
   "source": [
    "def Grade_Converter(convert_to, **name):    \n",
    "  # if convert_to == 'letter_of_grade':             #First Attempt\n",
    "    #     for name in range(85, 101):\n",
    "    #         return(name,'A')\n",
    "    #         print(dict)\n",
    "    #     for name in range(70, 85):\n",
    "    #         return(name,'B')\n",
    "    #     for name in range(60, 70):\n",
    "    #         return(name,'C')\n",
    "    #     for name in range(50, 60):\n",
    "    #         return(name,'D')\n",
    "    #     for name in range(40, 50):\n",
    "    #         return(name,'E')\n",
    "    #     for name in range(0, 40):\n",
    "    #         return(name,'F')\n",
    "    \n",
    "    # elif convert_to == 'gpa':\n",
    "    #     for name in range(85, 101):\n",
    "    #         return(name,'4')\n",
    "    #     for name in range(70, 85):\n",
    "    #         return(name,'3')\n",
    "    #     for name in range(60, 70):\n",
    "    #         return(name,'2.5')\n",
    "    #     for name in range(50, 60):\n",
    "    #         return(name,'2')\n",
    "    #     for name in range(40, 50):\n",
    "    #         return(name,'1.5')\n",
    "    #     for name in range(0, 40):\n",
    "    #         return(name,'1')\n",
    "    \n",
    "    # for student, score in name.items():\n",
    "    #     print(student, '->', score)\n",
    "    \n",
    "    for student in name:\n",
    "        print(student+'->',name[student])\n",
    "        if convert_to == 'gpa':\n",
    "            if name[student] >=85 and name[student]<101:\n",
    "                print('4')\n",
    "            elif name[student] >=70 and name[student]<85:\n",
    "                print('3')\n",
    "            elif name[student] >=60 and name[student]<70:\n",
    "                print('2.5')\n",
    "            elif name[student] >=50 and name[student]<60:\n",
    "                print('2')\n",
    "            elif name[student] >=40 and name[student]<50:\n",
    "                print('1.5')\n",
    "            elif name[student] >=0 and name[student]<40:\n",
    "                print('1')\n",
    "        elif convert_to == 'letter_grade':\n",
    "            if name[student] >=85 and name[student]<101:\n",
    "                print('A')\n",
    "            elif name[student] >=70 and name[student]<85:\n",
    "                print('B')\n",
    "            elif name[student] >=60 and name[student]<70:\n",
    "                print('C')\n",
    "            elif name[student] >=50 and name[student]<60:\n",
    "                print('D')\n",
    "            elif name[student] >=40 and name[student]<50:\n",
    "                print('E')\n",
    "            elif name[student] >=0 and name[student]<40:\n",
    "                print('F')\n",
    "\n",
    "Grade_Converter(convert_to='gpa', Adam=62, Faiz=92)\n",
    "Grade_Converter(convert_to='letter_grade', Albert=90, Dwi=82, Syahdan=58, Veronica=84)\n",
    "# Grade_Converter(convert_to='gpa', Adam=62, Faiz=92)\n"
   ]
  },
  {
   "cell_type": "markdown",
   "metadata": {},
   "source": [
    "# Task 4\n",
    "**create a function that will return the value of n-th fibonacci number.**\n",
    ">Instruction:\n",
    "1. The function will take 1 input parameter, n, represents the asked number from our fibonacci sequence index.\n",
    "2. The fibonacci sequence will start with the value of 0 and 1.\n",
    "3. This function will return the n-th value from fibonacci sequence."
   ]
  },
  {
   "cell_type": "code",
   "execution_count": 6,
   "metadata": {},
   "outputs": [
    {
     "name": "stdout",
     "output_type": "stream",
     "text": [
      "0\n",
      "3\n",
      "55\n"
     ]
    }
   ],
   "source": [
    "from fibomod import fibo        #testing pakai import dan bikin module\n",
    "print(fibo(0))\n",
    "print(fibo(4))\n",
    "print(fibo(10))"
   ]
  },
  {
   "cell_type": "code",
   "execution_count": null,
   "metadata": {},
   "outputs": [],
   "source": []
  }
 ],
 "metadata": {
  "kernelspec": {
   "display_name": "base",
   "language": "python",
   "name": "python3"
  },
  "language_info": {
   "codemirror_mode": {
    "name": "ipython",
    "version": 3
   },
   "file_extension": ".py",
   "mimetype": "text/x-python",
   "name": "python",
   "nbconvert_exporter": "python",
   "pygments_lexer": "ipython3",
   "version": "3.9.20"
  }
 },
 "nbformat": 4,
 "nbformat_minor": 2
}
